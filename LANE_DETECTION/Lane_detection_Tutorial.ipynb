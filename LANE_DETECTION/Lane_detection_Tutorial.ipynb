{
 "cells": [
  {
   "cell_type": "code",
   "execution_count": 1,
   "metadata": {},
   "outputs": [],
   "source": [
    "import numpy as np\n",
    "import cv2\n",
    "import matplotlib.pyplot as plt"
   ]
  },
  {
   "cell_type": "code",
   "execution_count": 2,
   "metadata": {},
   "outputs": [],
   "source": [
    "# image = cv2.imread(\"lines.png\")\n",
    "# plt.imshow(image)"
   ]
  },
  {
   "cell_type": "code",
   "execution_count": 3,
   "metadata": {},
   "outputs": [],
   "source": [
    "# Using Hough Transform Method to detect the line\n",
    "# cv2.HoughLines() cpu consumption is more\n",
    "\n",
    "# gray = cv2.cvtColor(image, cv2.COLOR_BGR2GRAY)\n",
    "# edges =  cv2.Canny(gray, 75, 150)\n",
    "\n",
    "# plt.imshow(edges, \"gray\")\n",
    "\n"
   ]
  },
  {
   "cell_type": "code",
   "execution_count": 4,
   "metadata": {},
   "outputs": [],
   "source": [
    "# lines = cv2.HoughLinesP(edges, 1, np.pi/180, 45, maxLineGap = 80)\n",
    "# # print(lines)\n",
    "# for line in lines:\n",
    "#     x1, y1, x2, y2 = line[0]\n",
    "#     cv2.line(image, (x1, y1), (x2, y2), (0,255,0), 3)\n",
    "# plt.imshow(image)   "
   ]
  },
  {
   "cell_type": "code",
   "execution_count": 7,
   "metadata": {},
   "outputs": [],
   "source": [
    "# working with the video\n",
    "video = cv2.VideoCapture(\"road_car_view.mp4\")\n",
    "\n",
    "while True:\n",
    "    ret, orig_frame = video.read()\n",
    "    frame = cv2.GaussianBlur(orig_frame, (5,5), 0)\n",
    "    hsv_frame = cv2.cvtColor(frame, cv2.COLOR_BGR2HSV)\n",
    "    \n",
    "    lower_yellow = np.array([18,94,140])\n",
    "    upper_yellow = np.array([48,255,255])\n",
    "    mask = cv2.inRange(hsv_frame, lower_yellow, upper_yellow)\n",
    "    \n",
    "    edges_in_frame = cv2.Canny(mask, 75, 150)\n",
    "    \n",
    "    lines_in_frame = cv2.HoughLinesP(edges_in_frame, 1, np.pi/180, 50, maxLineGap = 50)\n",
    "    for line in lines_in_frame:\n",
    "        x, y, p, q = line[0]\n",
    "        cv2.line(frame, (x, y), (p, q), (0,255,0), 3)\n",
    "    \n",
    "    cv2.imshow(\"frame\", frame)\n",
    "    cv2.imshow(\"edges\", edges_in_frame)\n",
    "    key = cv2.waitKey(25)\n",
    "    if key ==27:\n",
    "        break\n",
    "        \n",
    "video.release()\n",
    "cv2.destroyAllWindows()"
   ]
  },
  {
   "cell_type": "code",
   "execution_count": null,
   "metadata": {},
   "outputs": [],
   "source": []
  },
  {
   "cell_type": "code",
   "execution_count": null,
   "metadata": {},
   "outputs": [],
   "source": []
  }
 ],
 "metadata": {
  "kernelspec": {
   "display_name": "Python 3",
   "language": "python",
   "name": "python3"
  },
  "language_info": {
   "codemirror_mode": {
    "name": "ipython",
    "version": 3
   },
   "file_extension": ".py",
   "mimetype": "text/x-python",
   "name": "python",
   "nbconvert_exporter": "python",
   "pygments_lexer": "ipython3",
   "version": "3.7.9"
  }
 },
 "nbformat": 4,
 "nbformat_minor": 4
}
