{
 "cells": [
  {
   "cell_type": "markdown",
   "metadata": {},
   "source": [
    "# using loops"
   ]
  },
  {
   "cell_type": "code",
   "execution_count": 6,
   "metadata": {
    "scrolled": true
   },
   "outputs": [
    {
     "name": "stdout",
     "output_type": "stream",
     "text": [
      "(500, 500)\n",
      "(500, 500)\n"
     ]
    }
   ],
   "source": [
    "%matplotlib inline\n",
    "import cv2\n",
    "import numpy as np \n",
    "from matplotlib import pyplot as plt\n",
    "\n",
    "img = cv2.imread(r\"C:\\Users\\Mrunal\\Documents\\CoE\\LECTURES\\IVP LAB\\DIP3E_Original_Images_CH03\\Fig0333(a)(test_pattern_blurring_orig).tif\", 0)\n",
    "# print(img.dtype)\n",
    "cv2.imshow(\"input image\", img)\n",
    "print(img.shape)\n",
    "cv2.waitKey(0)\n",
    "# cv2.destroyAllWindows()\n",
    "\n",
    "m, n = img.shape \n",
    "\n",
    "# Develop Averaging filter(3, 3) mask \n",
    "mask = np.ones([3, 3], dtype = np.uint8) \n",
    "mask = mask / 9\n",
    "\n",
    "# Convolve the 3X3 mask over the image \n",
    "img_new = np.zeros([m, n], dtype = np.uint8) \n",
    "\n",
    "for i in range(1, m-1): \n",
    "    for j in range(1, n-1): \n",
    "        temp = img[i-1, j-1]*mask[0, 0]+img[i-1, j]*mask[0, 1]+img[i-1, j + 1]*mask[0, 2]+img[i, j-1]*mask[1, 0]+ img[i, j]*mask[1, 1]+img[i, j + 1]*mask[1, 2]+img[i + 1, j-1]*mask[2, 0]+img[i + 1, j]*mask[2, 1]+img[i + 1, j + 1]*mask[2, 2] \n",
    "        img_new[i, j] = np.uint8(temp) \n",
    "\n",
    "img_blur = img_new.astype(np.uint8) \n",
    "print(img_blur.shape)\n",
    "cv2.imshow(\"blurred image 3x3\", img_blur)\n",
    "cv2.waitKey(0)\n",
    "cv2.destroyAllWindows()"
   ]
  },
  {
   "cell_type": "code",
   "execution_count": 27,
   "metadata": {},
   "outputs": [
    {
     "name": "stdout",
     "output_type": "stream",
     "text": [
      "[[0 0 0 0]\n",
      " [0 0 0 0]\n",
      " [0 0 0 0]\n",
      " [0 0 0 0]]\n"
     ]
    },
    {
     "data": {
      "text/plain": [
       "array([[0, 0],\n",
       "       [0, 0]], dtype=uint8)"
      ]
     },
     "execution_count": 27,
     "metadata": {},
     "output_type": "execute_result"
    }
   ],
   "source": [
    "# for example only, slicing\n",
    "img_tp = np.zeros([4, 4], dtype = np.uint8) \n",
    "print(img_tp)\n",
    "img_tp[1:-1, 1:-1]"
   ]
  },
  {
   "cell_type": "markdown",
   "metadata": {},
   "source": [
    "# cv2 functions"
   ]
  },
  {
   "cell_type": "code",
   "execution_count": 7,
   "metadata": {},
   "outputs": [
    {
     "name": "stdout",
     "output_type": "stream",
     "text": [
      "(500, 500, 3)\n",
      "(500, 500, 3)\n"
     ]
    }
   ],
   "source": [
    "import cv2\n",
    "import numpy as np\n",
    "from matplotlib import pyplot as plt\n",
    "\n",
    "img = cv2.imread(r'C:\\Users\\Mrunal\\Documents\\CoE\\LECTURES\\IVP LAB\\DIP3E_Original_Images_CH03\\Fig0333(a)(test_pattern_blurring_orig).tif')\n",
    "print(img.shape)\n",
    "cv2.imshow(\"input image\", img)\n",
    "cv2.waitKey(0)\n",
    "\n",
    "kernel = np.ones((5,5),np.float32)/25\n",
    "dst = cv2.filter2D(img,-1,kernel)   # -1 for output depth same as input\n",
    "print(dst.shape)\n",
    "cv2.imshow(\"output image\", dst)\n",
    "cv2.waitKey(0)\n",
    "cv2.destroyAllWindows()"
   ]
  },
  {
   "cell_type": "code",
   "execution_count": 8,
   "metadata": {},
   "outputs": [
    {
     "name": "stdout",
     "output_type": "stream",
     "text": [
      "(500, 500, 3)\n"
     ]
    }
   ],
   "source": [
    "# kernel as a parameter\n",
    "import cv2\n",
    "import numpy as np\n",
    "from matplotlib import pyplot as plt\n",
    "\n",
    "img = cv2.imread(r'C:\\Users\\Mrunal\\Documents\\CoE\\LECTURES\\IVP LAB\\DIP3E_Original_Images_CH03\\Fig0333(a)(test_pattern_blurring_orig).tif')\n",
    "\n",
    "blur = cv2.blur(img,(11, 11))\n",
    "\n",
    "print(blur.shape)\n",
    "cv2.imshow(\"output image\", blur)\n",
    "cv2.waitKey(0)\n",
    "cv2.destroyAllWindows()"
   ]
  },
  {
   "cell_type": "markdown",
   "metadata": {},
   "source": [
    "# HW"
   ]
  },
  {
   "cell_type": "code",
   "execution_count": null,
   "metadata": {},
   "outputs": [],
   "source": [
    "Try 5X5 without opencv and compare it with opencv"
   ]
  },
  {
   "cell_type": "markdown",
   "metadata": {},
   "source": [
    "# RESOURCES"
   ]
  },
  {
   "cell_type": "code",
   "execution_count": null,
   "metadata": {},
   "outputs": [],
   "source": [
    "# https://www.geeksforgeeks.org/spatial-filters-averaging-filter-and-median-filter-in-image-processing/\n",
    "# https://www.geeksforgeeks.org/cnn-introduction-to-padding/\n",
    "# https://docs.opencv.org/master/d2/de8/group__core__array.html#ga209f2f4869e304c82d07739337eae7c5"
   ]
  }
 ],
 "metadata": {
  "kernelspec": {
   "display_name": "Python 3",
   "language": "python",
   "name": "python3"
  },
  "language_info": {
   "codemirror_mode": {
    "name": "ipython",
    "version": 3
   },
   "file_extension": ".py",
   "mimetype": "text/x-python",
   "name": "python",
   "nbconvert_exporter": "python",
   "pygments_lexer": "ipython3",
   "version": "3.7.3"
  }
 },
 "nbformat": 4,
 "nbformat_minor": 4
}
